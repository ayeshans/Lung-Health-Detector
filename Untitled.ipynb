{
 "cells": [
  {
   "cell_type": "markdown",
   "metadata": {},
   "source": [
    "### Lung Health Detector"
   ]
  },
  {
   "cell_type": "markdown",
   "metadata": {},
   "source": [
    "This project uses a convolutional neural network to classify chest x-rays into \"normal\" and \"pneumonia\".  \n",
    "Dataset available at: https://www.kaggle.com/paultimothymooney/chest-xray-pneumonia"
   ]
  },
  {
   "cell_type": "markdown",
   "metadata": {},
   "source": [
    "#### Imports"
   ]
  },
  {
   "cell_type": "code",
   "execution_count": 1,
   "metadata": {},
   "outputs": [],
   "source": [
    "import pandas as pd\n",
    "from tensorflow import keras\n",
    "from tensorflow.keras.models import Sequential\n",
    "from tensorflow.keras.layers import Convolution2D\n",
    "from tensorflow.keras.layers import MaxPooling2D\n",
    "from tensorflow.keras.layers import Flatten\n",
    "from tensorflow.keras.layers import Dense"
   ]
  },
  {
   "cell_type": "code",
   "execution_count": 2,
   "metadata": {},
   "outputs": [
    {
     "name": "stderr",
     "output_type": "stream",
     "text": [
      "Using TensorFlow backend.\n"
     ]
    }
   ],
   "source": [
    "from keras.preprocessing.image import ImageDataGenerator\n",
    "train_datagen = ImageDataGenerator(rescale=1./255,\n",
    "                                  shear_range=0.2,\n",
    "                                  zoom_range=0.2,\n",
    "                                  horizontal_flip=True)\n",
    "test_datagen = ImageDataGenerator(rescale=1./255)"
   ]
  },
  {
   "cell_type": "code",
   "execution_count": 3,
   "metadata": {},
   "outputs": [
    {
     "name": "stdout",
     "output_type": "stream",
     "text": [
      "Found 5216 images belonging to 2 classes.\n",
      "Found 624 images belonging to 2 classes.\n",
      "Found 16 images belonging to 2 classes.\n"
     ]
    }
   ],
   "source": [
    "training_set = train_datagen.flow_from_directory('chest_xray/train', \n",
    "                                                target_size=(64, 64),\n",
    "                                                batch_size=32,\n",
    "                                                class_mode='binary')\n",
    "test_set = train_datagen.flow_from_directory('chest_xray/test', \n",
    "                                                target_size=(64, 64),\n",
    "                                                batch_size=32,\n",
    "                                                class_mode='binary')\n",
    "val_set = train_datagen.flow_from_directory('chest_xray/val', \n",
    "                                                target_size=(64, 64),\n",
    "                                                batch_size=32,\n",
    "                                                class_mode='binary')"
   ]
  },
  {
   "cell_type": "markdown",
   "metadata": {},
   "source": [
    "#### Creating and training the classifier"
   ]
  },
  {
   "cell_type": "code",
   "execution_count": 4,
   "metadata": {},
   "outputs": [
    {
     "name": "stdout",
     "output_type": "stream",
     "text": [
      "WARNING:tensorflow:From /mnt/c/Users/Ayesha Naeem Syeda/Desktop/CV_Project/env/lib/python3.6/site-packages/tensorflow/python/ops/init_ops.py:1251: calling VarianceScaling.__init__ (from tensorflow.python.ops.init_ops) with dtype is deprecated and will be removed in a future version.\n",
      "Instructions for updating:\n",
      "Call initializer instance with the dtype argument instead of passing it to the constructor\n"
     ]
    }
   ],
   "source": [
    "classifier = keras.Sequential([\n",
    "    keras.layers.Convolution2D(32, (3, 3), activation='relu', input_shape=(64, 64, 3)),\n",
    "    keras.layers.MaxPooling2D(pool_size=(2, 2)),\n",
    "    keras.layers.Flatten(),\n",
    "    keras.layers.Dense(activation='relu', units=128),\n",
    "    keras.layers.Dense(activation='sigmoid', units=1)])"
   ]
  },
  {
   "cell_type": "code",
   "execution_count": 5,
   "metadata": {},
   "outputs": [
    {
     "name": "stdout",
     "output_type": "stream",
     "text": [
      "WARNING:tensorflow:From /mnt/c/Users/Ayesha Naeem Syeda/Desktop/CV_Project/env/lib/python3.6/site-packages/tensorflow/python/ops/nn_impl.py:180: add_dispatch_support.<locals>.wrapper (from tensorflow.python.ops.array_ops) is deprecated and will be removed in a future version.\n",
      "Instructions for updating:\n",
      "Use tf.where in 2.0, which has the same broadcast rule as np.where\n"
     ]
    }
   ],
   "source": [
    "classifier.compile(optimizer='adam', loss='binary_crossentropy', metrics=['accuracy'])"
   ]
  },
  {
   "cell_type": "code",
   "execution_count": 6,
   "metadata": {},
   "outputs": [
    {
     "name": "stdout",
     "output_type": "stream",
     "text": [
      "Epoch 1/10\n",
      "1000/1000 [==============================] - 960s 960ms/step - loss: 0.2250 - acc: 0.9080 - val_loss: 0.8028 - val_acc: 0.6759\n",
      "Epoch 2/10\n",
      "1000/1000 [==============================] - 839s 839ms/step - loss: 0.1450 - acc: 0.9438 - val_loss: 0.9771 - val_acc: 0.6475\n",
      "Epoch 3/10\n",
      "1000/1000 [==============================] - 765s 765ms/step - loss: 0.1264 - acc: 0.9521 - val_loss: 0.7571 - val_acc: 0.6859\n",
      "Epoch 4/10\n",
      "1000/1000 [==============================] - 871s 871ms/step - loss: 0.1182 - acc: 0.9541 - val_loss: 0.6848 - val_acc: 0.7195\n",
      "Epoch 5/10\n",
      "1000/1000 [==============================] - 908s 908ms/step - loss: 0.1087 - acc: 0.9589 - val_loss: 1.0317 - val_acc: 0.6696\n",
      "Epoch 6/10\n",
      "1000/1000 [==============================] - 806s 806ms/step - loss: 0.0961 - acc: 0.9624 - val_loss: 0.5264 - val_acc: 0.7667\n",
      "Epoch 7/10\n",
      "1000/1000 [==============================] - 684s 684ms/step - loss: 0.0880 - acc: 0.9671 - val_loss: 0.7041 - val_acc: 0.7120\n",
      "Epoch 8/10\n",
      "1000/1000 [==============================] - 852s 852ms/step - loss: 0.0831 - acc: 0.9676 - val_loss: 0.3999 - val_acc: 0.8177\n",
      "Epoch 9/10\n",
      "1000/1000 [==============================] - 804s 804ms/step - loss: 0.0769 - acc: 0.9716 - val_loss: 0.3538 - val_acc: 0.8510\n",
      "Epoch 10/10\n",
      "1000/1000 [==============================] - 681s 681ms/step - loss: 0.0725 - acc: 0.9720 - val_loss: 0.7757 - val_acc: 0.7297\n"
     ]
    },
    {
     "data": {
      "text/plain": [
       "<tensorflow.python.keras.callbacks.History at 0x7ff7cd89c128>"
      ]
     },
     "execution_count": 6,
     "metadata": {},
     "output_type": "execute_result"
    }
   ],
   "source": [
    "from IPython.display import display \n",
    "from PIL import Image\n",
    "\n",
    "classifier.fit_generator(training_set,\n",
    "                        steps_per_epoch=1000,\n",
    "                        epochs=10,\n",
    "                        validation_data=val_set,\n",
    "                        validation_steps=800)"
   ]
  },
  {
   "cell_type": "markdown",
   "metadata": {},
   "source": [
    "#### Obtaining the accuracy"
   ]
  },
  {
   "cell_type": "code",
   "execution_count": 7,
   "metadata": {},
   "outputs": [
    {
     "name": "stdout",
     "output_type": "stream",
     "text": [
      "Epoch 1/10\n",
      "200/200 [==============================] - 83s 413ms/step - loss: 0.2221 - acc: 0.9082\n",
      "Epoch 2/10\n",
      "200/200 [==============================] - 75s 375ms/step - loss: 0.1566 - acc: 0.9337\n",
      "Epoch 3/10\n",
      "200/200 [==============================] - 74s 371ms/step - loss: 0.1417 - acc: 0.9420\n",
      "Epoch 4/10\n",
      "200/200 [==============================] - 76s 378ms/step - loss: 0.1254 - acc: 0.9537\n",
      "Epoch 5/10\n",
      "200/200 [==============================] - 78s 391ms/step - loss: 0.1055 - acc: 0.9607\n",
      "Epoch 6/10\n",
      "200/200 [==============================] - 79s 395ms/step - loss: 0.0847 - acc: 0.9686\n",
      "Epoch 7/10\n",
      "200/200 [==============================] - 77s 385ms/step - loss: 0.0835 - acc: 0.9662\n",
      "Epoch 8/10\n",
      "200/200 [==============================] - 86s 429ms/step - loss: 0.0680 - acc: 0.9747\n",
      "Epoch 9/10\n",
      "200/200 [==============================] - 90s 451ms/step - loss: 0.0598 - acc: 0.9779\n",
      "Epoch 10/10\n",
      "200/200 [==============================] - 91s 453ms/step - loss: 0.0646 - acc: 0.9763\n"
     ]
    }
   ],
   "source": [
    "prediction = classifier.fit_generator(test_set, steps_per_epoch=200, epochs=10)"
   ]
  },
  {
   "cell_type": "code",
   "execution_count": 8,
   "metadata": {},
   "outputs": [
    {
     "name": "stdout",
     "output_type": "stream",
     "text": [
      "500/500 [==============================] - 205s 409ms/step - loss: 0.0663 - acc: 0.9756\n"
     ]
    }
   ],
   "source": [
    "score = classifier.evaluate(test_set, steps=500)"
   ]
  },
  {
   "cell_type": "code",
   "execution_count": 10,
   "metadata": {},
   "outputs": [
    {
     "data": {
      "text/plain": [
       "0.975641"
      ]
     },
     "execution_count": 10,
     "metadata": {},
     "output_type": "execute_result"
    }
   ],
   "source": [
    "score[1]"
   ]
  },
  {
   "cell_type": "code",
   "execution_count": 11,
   "metadata": {},
   "outputs": [],
   "source": [
    "from keras.models import load_model\n",
    "\n",
    "classifier.save('lungs_CNN.h5')"
   ]
  }
 ],
 "metadata": {
  "kernelspec": {
   "display_name": "Python 3",
   "language": "python",
   "name": "python3"
  },
  "language_info": {
   "codemirror_mode": {
    "name": "ipython",
    "version": 3
   },
   "file_extension": ".py",
   "mimetype": "text/x-python",
   "name": "python",
   "nbconvert_exporter": "python",
   "pygments_lexer": "ipython3",
   "version": "3.6.7"
  }
 },
 "nbformat": 4,
 "nbformat_minor": 2
}
